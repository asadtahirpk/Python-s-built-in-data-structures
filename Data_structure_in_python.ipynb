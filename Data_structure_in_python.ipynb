{
 "cells": [
  {
   "cell_type": "markdown",
   "id": "9bb331d1",
   "metadata": {},
   "source": [
    "# Data Structure in python"
   ]
  },
  {
   "cell_type": "markdown",
   "id": "9a039935",
   "metadata": {},
   "source": [
    "## 1:List"
   ]
  },
  {
   "cell_type": "markdown",
   "id": "bac6769b",
   "metadata": {},
   "source": [
    "*What is a List in Python?*\\\n",
    "A list is a collection of items that:\n",
    "\n",
    "* Is ordered (items have a fixed index)\n",
    "\n",
    "* Is mutable (changeable)\n",
    "\n",
    "* Allows duplicates\n",
    "\n",
    "* Can contain different data types (e.g., int, str, float, even other lists)"
   ]
  },
  {
   "cell_type": "markdown",
   "id": "4ab7e2b7",
   "metadata": {
    "vscode": {
     "languageId": "plaintext"
    }
   },
   "source": [
    "### List creation Syntax"
   ]
  },
  {
   "cell_type": "code",
   "execution_count": 1,
   "id": "2ac6249c",
   "metadata": {},
   "outputs": [
    {
     "name": "stdout",
     "output_type": "stream",
     "text": [
      "Original List: [10, 20, 30, 40, 50]\n"
     ]
    }
   ],
   "source": [
    "# Create a List\n",
    "my_list = [10, 20, 30, 40, 50]\n",
    "print(\"Original List:\", my_list)\n"
   ]
  },
  {
   "cell_type": "markdown",
   "id": "2c70e6c9",
   "metadata": {},
   "source": [
    "## List Methods"
   ]
  },
  {
   "cell_type": "markdown",
   "id": "f2b01ea9",
   "metadata": {},
   "source": [
    "### Add/insert elements"
   ]
  },
  {
   "cell_type": "code",
   "execution_count": 14,
   "id": "909a0248",
   "metadata": {},
   "outputs": [
    {
     "name": "stdout",
     "output_type": "stream",
     "text": [
      "After append(60): [20, 40, 60]\n",
      "After insert(2, 25): [20, 40, 25, 60]\n",
      "After extend([70, 80]): [20, 40, 25, 60, 70, 80]\n"
     ]
    }
   ],
   "source": [
    "# Add/insert elements\n",
    "# append(x): Add item at the end\n",
    "my_list.append(60)\n",
    "print(\"After append(60):\", my_list)\n",
    "\n",
    "# insert(index, x): Insert at specific index\n",
    "my_list.insert(2, 25)\n",
    "print(\"After insert(2, 25):\", my_list)\n",
    "\n",
    "# extend([list]): Add multiple elements from another list\n",
    "my_list.extend([70, 80])\n",
    "print(\"After extend([70, 80]):\", my_list)\n"
   ]
  },
  {
   "cell_type": "markdown",
   "id": "0311acb3",
   "metadata": {},
   "source": [
    "### Remove Elements\n"
   ]
  },
  {
   "cell_type": "code",
   "execution_count": 16,
   "id": "880582fe",
   "metadata": {},
   "outputs": [
    {
     "name": "stdout",
     "output_type": "stream",
     "text": [
      "[20, 40, 25, 60, 70, 80]\n",
      "After remove(725): [20, 40, 60, 70, 80]\n",
      "After pop(): [20, 40, 60, 70]\n",
      "After pop(0): [40, 60, 70]\n",
      "After clear(): []\n"
     ]
    }
   ],
   "source": [
    "print(my_list)\n",
    "# remove(x): Remove first occurrence of element\n",
    "my_list.remove(25)\n",
    "print(\"After remove(725):\", my_list)\n",
    "\n",
    "# pop(): Remove last item (or specific index)\n",
    "my_list.pop()  # removes 80\n",
    "print(\"After pop():\", my_list)\n",
    "\n",
    "my_list.pop(0)  # removes 10\n",
    "print(\"After pop(0):\", my_list)\n",
    "\n",
    "# clear(): Remove all items\n",
    "temp_list = my_list.copy()\n",
    "temp_list.clear()\n",
    "print(\"After clear():\", temp_list)\n"
   ]
  },
  {
   "cell_type": "markdown",
   "id": "8c17bc4c",
   "metadata": {},
   "source": [
    "### Search and count"
   ]
  },
  {
   "cell_type": "code",
   "execution_count": 4,
   "id": "4b32d87c",
   "metadata": {},
   "outputs": [
    {
     "name": "stdout",
     "output_type": "stream",
     "text": [
      "Index of 30: 1\n",
      "Count of 30: 2\n"
     ]
    }
   ],
   "source": [
    "# index(x): Find index of first occurrence\n",
    "index = my_list.index(30)\n",
    "print(\"Index of 30:\", index)\n",
    "\n",
    "# count(x): Count occurrences of a value\n",
    "my_list.append(30)\n",
    "count = my_list.count(30)\n",
    "print(\"Count of 30:\", count)"
   ]
  },
  {
   "cell_type": "markdown",
   "id": "f4dd9337",
   "metadata": {},
   "source": [
    "### Sorting and Reversing"
   ]
  },
  {
   "cell_type": "code",
   "execution_count": 5,
   "id": "65981163",
   "metadata": {},
   "outputs": [
    {
     "name": "stdout",
     "output_type": "stream",
     "text": [
      "Sorted List: [1, 3, 5, 7, 9]\n",
      "Reversed List: [9, 7, 5, 3, 1]\n"
     ]
    }
   ],
   "source": [
    "# sort(): Sorts the list (ascending by default)\n",
    "numbers = [5, 3, 9, 1, 7]\n",
    "numbers.sort()\n",
    "print(\"Sorted List:\", numbers)\n",
    "\n",
    "# reverse(): Reverses the list\n",
    "numbers.reverse()\n",
    "print(\"Reversed List:\", numbers)\n"
   ]
  },
  {
   "cell_type": "markdown",
   "id": "17ea702e",
   "metadata": {},
   "source": [
    "### Copying"
   ]
  },
  {
   "cell_type": "code",
   "execution_count": 6,
   "id": "21a033e2",
   "metadata": {},
   "outputs": [
    {
     "name": "stdout",
     "output_type": "stream",
     "text": [
      "Copied List: [20, 30, 40, 50, 60, 70, 30]\n"
     ]
    }
   ],
   "source": [
    "# copy(): Makes a shallow copy of the list\n",
    "copy_list = my_list.copy()\n",
    "print(\"Copied List:\", copy_list)\n"
   ]
  },
  {
   "cell_type": "markdown",
   "id": "4300cd97",
   "metadata": {},
   "source": [
    "## 2:Tuple"
   ]
  },
  {
   "cell_type": "markdown",
   "id": "0d17a388",
   "metadata": {},
   "source": [
    "## What is a Tuple in Python?\n",
    "A tuple is a collection which is:\\\n",
    "\n",
    "* Ordered\n",
    "\n",
    "* Immutable (cannot be changed after creation)\n",
    "\n",
    "* Allows duplicate elements\n",
    "\n",
    "* Can hold mixed data types"
   ]
  },
  {
   "cell_type": "markdown",
   "id": "132bf035",
   "metadata": {},
   "source": [
    "How to Create a tuple"
   ]
  },
  {
   "cell_type": "code",
   "execution_count": 4,
   "id": "cd1e90bf",
   "metadata": {},
   "outputs": [
    {
     "name": "stdout",
     "output_type": "stream",
     "text": [
      "(10, 20, 30)\n",
      "(1, 'hello', 3.5)\n",
      "(5,)\n"
     ]
    }
   ],
   "source": [
    "my_tuple = (10, 20, 30)\n",
    "print(my_tuple)\n",
    "\n",
    "# Tuple with different data types\n",
    "mixed = (1, \"hello\", 3.5)\n",
    "print(mixed)\n",
    "# Single-element tuple (note the comma)\n",
    "single = (5,)\n",
    "print(single)"
   ]
  },
  {
   "cell_type": "markdown",
   "id": "d5c94142",
   "metadata": {},
   "source": [
    "## indexing and slicing"
   ]
  },
  {
   "cell_type": "code",
   "execution_count": 5,
   "id": "caec3019",
   "metadata": {},
   "outputs": [
    {
     "name": "stdout",
     "output_type": "stream",
     "text": [
      "10\n",
      "50\n",
      "(20, 30, 40)\n"
     ]
    }
   ],
   "source": [
    "my_tuple = (10, 20, 30, 40, 50)\n",
    "\n",
    "print(my_tuple[0])     # 10\n",
    "print(my_tuple[-1])    # 50\n",
    "print(my_tuple[1:4])   # (20, 30, 40)\n"
   ]
  },
  {
   "cell_type": "markdown",
   "id": "3b570565",
   "metadata": {},
   "source": [
    "## Tuple Methods"
   ]
  },
  {
   "cell_type": "markdown",
   "id": "f2a3d54a",
   "metadata": {},
   "source": [
    "## Count Method"
   ]
  },
  {
   "cell_type": "code",
   "execution_count": 6,
   "id": "c87b3110",
   "metadata": {},
   "outputs": [
    {
     "name": "stdout",
     "output_type": "stream",
     "text": [
      "3\n"
     ]
    }
   ],
   "source": [
    "t = (1, 2, 2, 3, 4, 2)\n",
    "print(t.count(2))  # Output: 3\n"
   ]
  },
  {
   "cell_type": "markdown",
   "id": "d0dc9426",
   "metadata": {},
   "source": [
    "## Index Method"
   ]
  },
  {
   "cell_type": "code",
   "execution_count": 8,
   "id": "1b34d76e",
   "metadata": {},
   "outputs": [
    {
     "name": "stdout",
     "output_type": "stream",
     "text": [
      "1\n"
     ]
    }
   ],
   "source": [
    "t = (5, 10, 15, 10, 20)\n",
    "print(t.index(10))  # Output: 1\n"
   ]
  },
  {
   "cell_type": "markdown",
   "id": "91f15c7f",
   "metadata": {},
   "source": [
    "## Tuple to List Conversion"
   ]
  },
  {
   "cell_type": "code",
   "execution_count": 9,
   "id": "33a4d25a",
   "metadata": {},
   "outputs": [
    {
     "name": "stdout",
     "output_type": "stream",
     "text": [
      "(1, 2, 3, 4)\n"
     ]
    }
   ],
   "source": [
    "t = (1, 2, 3)\n",
    "temp = list(t)\n",
    "temp.append(4)\n",
    "t = tuple(temp)\n",
    "print(t)  # Output: (1, 2, 3, 4)\n"
   ]
  },
  {
   "cell_type": "markdown",
   "id": "ed97db4b",
   "metadata": {},
   "source": [
    "# 3:Set\n",
    "# What is a Set in Python?\n",
    "A set is:\n",
    "\n",
    "* Unordered (no indexing)\n",
    "\n",
    "* Unindexed (you can't access items by position)\n",
    "\n",
    "* Mutable (you can add/remove items)\n",
    "\n",
    "* No duplicate elements allowed\n",
    "\n",
    "* Can hold different data types\n",
    "\n"
   ]
  },
  {
   "cell_type": "markdown",
   "id": "1b91ba03",
   "metadata": {},
   "source": [
    "## Set Creation"
   ]
  },
  {
   "cell_type": "code",
   "execution_count": 29,
   "id": "d7939583",
   "metadata": {},
   "outputs": [
    {
     "name": "stdout",
     "output_type": "stream",
     "text": [
      "{1, 2, 3, 4}\n",
      "{1, 2, 3}\n"
     ]
    }
   ],
   "source": [
    "my_set = {1, 2, 3, 4}\n",
    "print(my_set)  # Output: {1, 2, 3, 4}\n",
    "\n",
    "# With duplicates\n",
    "dup_set = {1, 2, 2, 3}\n",
    "print(dup_set)  # Output: {1, 2, 3}\n",
    "\n",
    "# Using set() constructor\n",
    "s = set([10, 20, 30])\n"
   ]
  },
  {
   "cell_type": "markdown",
   "id": "4b1f5b73",
   "metadata": {},
   "source": [
    "## Set Methods"
   ]
  },
  {
   "cell_type": "markdown",
   "id": "ef39e25a",
   "metadata": {},
   "source": [
    "## Add method"
   ]
  },
  {
   "cell_type": "code",
   "execution_count": 100,
   "id": "76bc8e67",
   "metadata": {},
   "outputs": [
    {
     "name": "stdout",
     "output_type": "stream",
     "text": [
      "{2, 3, 4, 5, 6, 7}\n"
     ]
    }
   ],
   "source": [
    "my_set.add(4)\n",
    "print(my_set)  # Output: {1, 2, 3, 4}\n"
   ]
  },
  {
   "cell_type": "markdown",
   "id": "d8b65565",
   "metadata": {},
   "source": [
    "## Adds multiple elements (from list, tuple, etc.)"
   ]
  },
  {
   "cell_type": "code",
   "execution_count": 31,
   "id": "a31670c9",
   "metadata": {},
   "outputs": [
    {
     "name": "stdout",
     "output_type": "stream",
     "text": [
      "{1, 2, 3, 4, 5, 6, 7, 8}\n"
     ]
    }
   ],
   "source": [
    "my_set.update([5, 6], {7, 8})\n",
    "print(my_set)  # Output: {1, 2, 3, 4, 5, 6, 7, 8}\n"
   ]
  },
  {
   "cell_type": "markdown",
   "id": "5afd39f1",
   "metadata": {},
   "source": [
    "## Remove Method"
   ]
  },
  {
   "cell_type": "code",
   "execution_count": 32,
   "id": "d28deda2",
   "metadata": {},
   "outputs": [
    {
     "name": "stdout",
     "output_type": "stream",
     "text": [
      "{1, 2, 3, 4, 5, 6, 7}\n"
     ]
    }
   ],
   "source": [
    "# Removes x from the set. Raises KeyError if not found.\n",
    "my_set.remove(8)\n",
    "print(my_set)  # Output: {1, 2, 3, 4, 5, 6, 7}\n"
   ]
  },
  {
   "cell_type": "markdown",
   "id": "bdf81cca",
   "metadata": {},
   "source": [
    "## Discard Method"
   ]
  },
  {
   "cell_type": "code",
   "execution_count": 34,
   "id": "f79fd42b",
   "metadata": {},
   "outputs": [
    {
     "name": "stdout",
     "output_type": "stream",
     "text": [
      "{1, 2, 3, 4, 5, 6, 7}\n",
      "{1, 2, 3, 4, 5, 6, 7}\n"
     ]
    }
   ],
   "source": [
    "print(my_set)\n",
    "# Removes x from the set. No error if x is not found.\n",
    "my_set.discard(10)  # No error even if 10 is not in set\n",
    "print(my_set)       # Output: {1, 2, 3, 4, 5, 6, 7}\n"
   ]
  },
  {
   "cell_type": "markdown",
   "id": "cf34caad",
   "metadata": {},
   "source": [
    "## Pop Method"
   ]
  },
  {
   "cell_type": "code",
   "execution_count": 35,
   "id": "4a266ef9",
   "metadata": {},
   "outputs": [
    {
     "name": "stdout",
     "output_type": "stream",
     "text": [
      "Removed: 1\n",
      "Updated Set: {2, 3, 4, 5, 6, 7}\n"
     ]
    }
   ],
   "source": [
    "# Removes and returns a random element.\n",
    "removed = my_set.pop()\n",
    "print(\"Removed:\", removed)\n",
    "print(\"Updated Set:\", my_set)"
   ]
  },
  {
   "cell_type": "markdown",
   "id": "8eeec697",
   "metadata": {},
   "source": [
    "## Clear Method"
   ]
  },
  {
   "cell_type": "code",
   "execution_count": 36,
   "id": "05e1651f",
   "metadata": {},
   "outputs": [
    {
     "name": "stdout",
     "output_type": "stream",
     "text": [
      "set()\n"
     ]
    }
   ],
   "source": [
    "# Removes all elements from the set.\n",
    "temp_set = {10, 20, 30}\n",
    "temp_set.clear()\n",
    "print(temp_set)  # Output: set()\n"
   ]
  },
  {
   "cell_type": "markdown",
   "id": "9b7aaf26",
   "metadata": {},
   "source": [
    "## Copy Method"
   ]
  },
  {
   "cell_type": "code",
   "execution_count": 38,
   "id": "959b17d0",
   "metadata": {},
   "outputs": [
    {
     "name": "stdout",
     "output_type": "stream",
     "text": [
      "{1, 2, 3}\n"
     ]
    }
   ],
   "source": [
    "#Returns a shallow copy of the set.\n",
    "original = {1, 2, 3}\n",
    "copied = original.copy()\n",
    "print(copied)  # Output: {1, 2, 3}\n",
    "\n"
   ]
  },
  {
   "cell_type": "markdown",
   "id": "1beaa2cc",
   "metadata": {},
   "source": [
    "## union"
   ]
  },
  {
   "cell_type": "code",
   "execution_count": null,
   "id": "d7260a9a",
   "metadata": {},
   "outputs": [
    {
     "name": "stdout",
     "output_type": "stream",
     "text": [
      "{1, 2, 3}\n",
      "{1, 2, 3}\n"
     ]
    }
   ],
   "source": [
    "# Returns a new set containing all elements from both sets.\n",
    "a = {1, 2}\n",
    "b = {2, 3}\n",
    "print(a.union(b))  # Output: {1, 2, 3}\n",
    "print(a | b)       # Same\n"
   ]
  },
  {
   "cell_type": "markdown",
   "id": "678fbbd1",
   "metadata": {},
   "source": [
    "## Intersection"
   ]
  },
  {
   "cell_type": "code",
   "execution_count": 40,
   "id": "13c7a85d",
   "metadata": {},
   "outputs": [
    {
     "name": "stdout",
     "output_type": "stream",
     "text": [
      "{2}\n",
      "{2}\n"
     ]
    }
   ],
   "source": [
    "# Returns a set with common elements\n",
    "print(a.intersection(b))  # Output: {2}\n",
    "print(a & b)              # Same\n"
   ]
  },
  {
   "cell_type": "markdown",
   "id": "5aa5e5ca",
   "metadata": {},
   "source": [
    "## Difference"
   ]
  },
  {
   "cell_type": "code",
   "execution_count": 41,
   "id": "539623ec",
   "metadata": {},
   "outputs": [
    {
     "name": "stdout",
     "output_type": "stream",
     "text": [
      "{1}\n",
      "{1}\n"
     ]
    }
   ],
   "source": [
    "# Returns elements only in the first set.\n",
    "print(a.difference(b))  # Output: {1}\n",
    "print(a - b)            # Same\n"
   ]
  },
  {
   "cell_type": "markdown",
   "id": "87cdcd63",
   "metadata": {},
   "source": [
    "## Symmetric_difference(other_set) or ^"
   ]
  },
  {
   "cell_type": "code",
   "execution_count": null,
   "id": "de9e6fc3",
   "metadata": {},
   "outputs": [
    {
     "name": "stdout",
     "output_type": "stream",
     "text": [
      "{1, 3}\n",
      "{1, 3}\n"
     ]
    }
   ],
   "source": [
    "# Elements that are in either set but not both.\n",
    "print(a.symmetric_difference(b))  # Output: {1, 3}\n",
    "print(a ^ b)                      # Same\n"
   ]
  },
  {
   "cell_type": "markdown",
   "id": "e7c6797f",
   "metadata": {},
   "source": [
    "## isdisjoint(other_set)"
   ]
  },
  {
   "cell_type": "code",
   "execution_count": 45,
   "id": "39992992",
   "metadata": {},
   "outputs": [
    {
     "name": "stdout",
     "output_type": "stream",
     "text": [
      "True\n",
      "False\n"
     ]
    }
   ],
   "source": [
    "# Returns True if sets have no common elements.\n",
    "print({1, 2}.isdisjoint({3, 4}))  # True\n",
    "print({1, 2}.isdisjoint({2, 3}))  # False\n"
   ]
  },
  {
   "cell_type": "markdown",
   "id": "24b09fbd",
   "metadata": {},
   "source": [
    "## issubset(other_set)"
   ]
  },
  {
   "cell_type": "code",
   "execution_count": 46,
   "id": "396a2449",
   "metadata": {},
   "outputs": [
    {
     "name": "stdout",
     "output_type": "stream",
     "text": [
      "True\n"
     ]
    }
   ],
   "source": [
    "# Checks if the current set is a subset of another.\n",
    "c={1,2,3,4,5}\n",
    "d={1,2,3}\n",
    "print(d.issubset(c))  # True\n"
   ]
  },
  {
   "cell_type": "markdown",
   "id": "90521d6e",
   "metadata": {},
   "source": [
    "## issuperset(other_set)"
   ]
  },
  {
   "cell_type": "code",
   "execution_count": 48,
   "id": "1f1d3008",
   "metadata": {},
   "outputs": [
    {
     "name": "stdout",
     "output_type": "stream",
     "text": [
      "True\n"
     ]
    }
   ],
   "source": [
    "# Checks if the current set is a superset of another.\n",
    "c={1,2,3,4,5}\n",
    "d={1,2,3}\n",
    "print(c.issuperset(d))  # True\n"
   ]
  },
  {
   "cell_type": "markdown",
   "id": "e859ada2",
   "metadata": {},
   "source": [
    "# 4: Dictionary"
   ]
  },
  {
   "cell_type": "markdown",
   "id": "a62649f3",
   "metadata": {},
   "source": [
    "# What is a Dictionary in Python?\n",
    "A dictionary is:\n",
    "\n",
    "* Unordered (ordered since Python 3.7+)\n",
    "\n",
    "* Stores data in key-value pairs\n",
    "\n",
    "* Keys are unique\n",
    "\n",
    "* Values can be any data type\n",
    "\n",
    "* Mutable (you can add, change, delete items)"
   ]
  },
  {
   "cell_type": "markdown",
   "id": "c90bc285",
   "metadata": {},
   "source": [
    "## Dictionary Creation"
   ]
  },
  {
   "cell_type": "code",
   "execution_count": 70,
   "id": "ab9d2284",
   "metadata": {},
   "outputs": [
    {
     "name": "stdout",
     "output_type": "stream",
     "text": [
      "{'name': 'Asad', 'age': 21, 'city': 'Lahore'}\n"
     ]
    }
   ],
   "source": [
    "student = {\n",
    "    \"name\": \"Asad\",\n",
    "    \"age\": 21,\n",
    "    \"city\": \"Lahore\"\n",
    "}\n",
    "print(student)"
   ]
  },
  {
   "cell_type": "markdown",
   "id": "c905176e",
   "metadata": {},
   "source": [
    "## Methods"
   ]
  },
  {
   "cell_type": "markdown",
   "id": "b4d35648",
   "metadata": {},
   "source": [
    "## get(key, default)"
   ]
  },
  {
   "cell_type": "code",
   "execution_count": 71,
   "id": "253897b8",
   "metadata": {},
   "outputs": [
    {
     "name": "stdout",
     "output_type": "stream",
     "text": [
      "Asad\n",
      "N/A\n"
     ]
    }
   ],
   "source": [
    "# Returns the value for the key. Returns default if key not found.\n",
    "print(student.get(\"name\"))           # \"Asad\"\n",
    "print(student.get(\"grade\", \"N/A\"))   # \"N/A\"\n"
   ]
  },
  {
   "cell_type": "markdown",
   "id": "f30e16cf",
   "metadata": {},
   "source": [
    "## keys()"
   ]
  },
  {
   "cell_type": "code",
   "execution_count": 72,
   "id": "4b99f99b",
   "metadata": {},
   "outputs": [
    {
     "name": "stdout",
     "output_type": "stream",
     "text": [
      "dict_keys(['name', 'age', 'city'])\n"
     ]
    }
   ],
   "source": [
    "# Returns a view of all keys.\n",
    "print(student.keys())  # dict_keys(['name', 'age', 'city'])"
   ]
  },
  {
   "cell_type": "markdown",
   "id": "64d476ce",
   "metadata": {},
   "source": [
    "## values()"
   ]
  },
  {
   "cell_type": "code",
   "execution_count": 73,
   "id": "cb093ea4",
   "metadata": {},
   "outputs": [
    {
     "name": "stdout",
     "output_type": "stream",
     "text": [
      "dict_values(['Asad', 21, 'Lahore'])\n"
     ]
    }
   ],
   "source": [
    "# Returns a view of all values\n",
    "print(student.values())  # dict_values(['Asad', 21, 'Lahore'])"
   ]
  },
  {
   "cell_type": "markdown",
   "id": "4f27b414",
   "metadata": {},
   "source": [
    "## items()"
   ]
  },
  {
   "cell_type": "code",
   "execution_count": 74,
   "id": "03c35eab",
   "metadata": {},
   "outputs": [
    {
     "name": "stdout",
     "output_type": "stream",
     "text": [
      "name Asad\n",
      "age 21\n",
      "city Lahore\n"
     ]
    }
   ],
   "source": [
    "# Returns a view of all key-value pairs (as tuples).\n",
    "for k, v in student.items():\n",
    "    print(k, v)\n"
   ]
  },
  {
   "cell_type": "markdown",
   "id": "8e340b26",
   "metadata": {},
   "source": [
    "## update(other_dict)"
   ]
  },
  {
   "cell_type": "code",
   "execution_count": 75,
   "id": "9295c851",
   "metadata": {},
   "outputs": [
    {
     "name": "stdout",
     "output_type": "stream",
     "text": [
      "{'name': 'Asad', 'age': 22, 'city': 'Lahore', 'gender': 'male'}\n"
     ]
    }
   ],
   "source": [
    "#Updates dictionary with another dictionary.\n",
    "student.update({\"age\": 22, \"gender\": \"male\"})\n",
    "print(student)\n"
   ]
  },
  {
   "cell_type": "markdown",
   "id": "7ce7e65e",
   "metadata": {},
   "source": [
    "## pop(key)"
   ]
  },
  {
   "cell_type": "code",
   "execution_count": 76,
   "id": "1db7668e",
   "metadata": {},
   "outputs": [
    {
     "name": "stdout",
     "output_type": "stream",
     "text": [
      "Lahore\n"
     ]
    }
   ],
   "source": [
    "# Removes and returns the value for the given key.\n",
    "dlt=student.pop(\"city\")\n",
    "print(dlt)  # 'city' key removed"
   ]
  },
  {
   "cell_type": "markdown",
   "id": "e40a36cb",
   "metadata": {},
   "source": [
    "## popitem()"
   ]
  },
  {
   "cell_type": "code",
   "execution_count": null,
   "id": "78bbe5f8",
   "metadata": {},
   "outputs": [
    {
     "name": "stdout",
     "output_type": "stream",
     "text": [
      "('gender', 'male')\n"
     ]
    }
   ],
   "source": [
    "# Removes and returns the last inserted key-value pair.\n",
    "last_item = student.popitem()\n",
    "print(last_item)\n"
   ]
  },
  {
   "cell_type": "markdown",
   "id": "ce9d9052",
   "metadata": {},
   "source": [
    "## setdefault(key, default)"
   ]
  },
  {
   "cell_type": "code",
   "execution_count": null,
   "id": "d8223868",
   "metadata": {},
   "outputs": [
    {
     "name": "stdout",
     "output_type": "stream",
     "text": [
      "{'name': 'Asad', 'age': 22, 'grade': 'A'}\n"
     ]
    }
   ],
   "source": [
    "# Key already exists → value won’t change\n",
    "\n",
    "student.setdefault(\"grade\", \"A\")\n",
    "print(student)\n"
   ]
  },
  {
   "cell_type": "code",
   "execution_count": null,
   "id": "bdae0b44",
   "metadata": {},
   "outputs": [
    {
     "name": "stdout",
     "output_type": "stream",
     "text": [
      "{'name': 'Asad', 'age': 22, 'grade': 'A'}\n"
     ]
    }
   ],
   "source": [
    "# Key does not exist → key/value is added\n",
    "student.setdefault(\"grade\", \"b\")\n",
    "print(student)\n"
   ]
  },
  {
   "cell_type": "markdown",
   "id": "f6c1fb84",
   "metadata": {},
   "source": [
    "## clear()"
   ]
  },
  {
   "cell_type": "code",
   "execution_count": 80,
   "id": "2295f10a",
   "metadata": {},
   "outputs": [
    {
     "name": "stdout",
     "output_type": "stream",
     "text": [
      "{}\n"
     ]
    }
   ],
   "source": [
    "# Removes all items from the dictionary.\n",
    "student.clear()\n",
    "print(student)  # Output: {}"
   ]
  },
  {
   "cell_type": "markdown",
   "id": "76c9c4c4",
   "metadata": {},
   "source": [
    "## copy()"
   ]
  },
  {
   "cell_type": "code",
   "execution_count": 82,
   "id": "85599b70",
   "metadata": {},
   "outputs": [
    {
     "name": "stdout",
     "output_type": "stream",
     "text": [
      "{}\n"
     ]
    }
   ],
   "source": [
    "# Returns a shallow copy of the dictionary.\n",
    "new_dict = student.copy()\n",
    "print(new_dict)"
   ]
  },
  {
   "cell_type": "markdown",
   "id": "0d5ada78",
   "metadata": {},
   "source": [
    "## Looping Through a Dictionary"
   ]
  },
  {
   "cell_type": "code",
   "execution_count": null,
   "id": "cf10d33d",
   "metadata": {},
   "outputs": [
    {
     "name": "stdout",
     "output_type": "stream",
     "text": [
      "name: Asad\n",
      "age: 21\n",
      "Eduction: BSCS\n",
      "Skill: Data_Scienctist\n"
     ]
    }
   ],
   "source": [
    "std={\n",
    "    \"name\":\"Asad\",\n",
    "    \"age\":21,\n",
    "    \"Eduction\":\"BSCS\",\n",
    "    \"Skill\":\"Data_Scienctist\"\n",
    "}\n",
    "for key, value in std.items():\n",
    "    print(f\"{key}: {value}\") # f before strinf means it is a formated string that allows you to embed variables into string\n"
   ]
  },
  {
   "cell_type": "code",
   "execution_count": null,
   "id": "30091724",
   "metadata": {},
   "outputs": [],
   "source": []
  }
 ],
 "metadata": {
  "kernelspec": {
   "display_name": "Python 3",
   "language": "python",
   "name": "python3"
  },
  "language_info": {
   "codemirror_mode": {
    "name": "ipython",
    "version": 3
   },
   "file_extension": ".py",
   "mimetype": "text/x-python",
   "name": "python",
   "nbconvert_exporter": "python",
   "pygments_lexer": "ipython3",
   "version": "3.11.4"
  }
 },
 "nbformat": 4,
 "nbformat_minor": 5
}
